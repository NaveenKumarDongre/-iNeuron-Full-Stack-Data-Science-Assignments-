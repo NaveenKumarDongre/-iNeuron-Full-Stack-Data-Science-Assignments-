{
 "cells": [
  {
   "cell_type": "markdown",
   "id": "0b2e8034",
   "metadata": {},
   "source": [
    "# Assignment_1"
   ]
  },
  {
   "cell_type": "markdown",
   "id": "0b842782",
   "metadata": {},
   "source": [
    "### 1. In the below elements which of the them are values or an expression? eg:- values can be integer or string and expressions willl be mathematical operators"
   ]
  },
  {
   "cell_type": "markdown",
   "id": "e542b0e4",
   "metadata": {},
   "source": [
    "#### *  = mathematical operator(multiplication operator)\n",
    "\n",
    "#### 'Hello' =  String \n",
    "\n",
    "#### -87.8  =  negative float datatype \n",
    "\n",
    "#### -   =   mathematical operator(subtraction operator)\n",
    "\n",
    "#### /   =   mathematical operator(division operator)\n",
    "\n",
    "#### +   =  mathematical operator(Addition operator)\n",
    "\n",
    "#### 6   =  positive integer"
   ]
  },
  {
   "cell_type": "markdown",
   "id": "ae6cecc4",
   "metadata": {},
   "source": [
    "### 2. What is the difference between string and variable ?"
   ]
  },
  {
   "cell_type": "markdown",
   "id": "b1d96602",
   "metadata": {},
   "source": [
    "#### Variables\n",
    "We can think of variable as a container to store a value in a memory location and to manipulate it if needed. variable can stire a string , int , float etc.\n",
    "Below is the Example here I am using variable name as num and at first I am storing value 6 in that and again I stored value 20 in that."
   ]
  },
  {
   "cell_type": "code",
   "execution_count": 6,
   "id": "89d6c74f",
   "metadata": {},
   "outputs": [],
   "source": [
    "num = 6\n",
    "num  = 20"
   ]
  },
  {
   "cell_type": "markdown",
   "id": "f1dbc2b9",
   "metadata": {},
   "source": [
    "#### Strings\n",
    "1. A string is simply a list of characters in order. A character is anything we can type on the keyboard in one keystroke, like a letter, a number, or a backslash. \n",
    "\n",
    "2. A string is always enclosed between \"double quote\" , 'single quote', even \"\"\" triple quote \"\"\" to in python \n",
    "\n",
    "3. In the string we have the indexing starting from 0 to length of the string.\n",
    "\n",
    "4. Strings are immutable we cannot change or reassign any character of the string by reaching its index. \n",
    "\n",
    "Below I am showing some example of String."
   ]
  },
  {
   "cell_type": "code",
   "execution_count": 7,
   "id": "01c36ceb",
   "metadata": {},
   "outputs": [
    {
     "name": "stdout",
     "output_type": "stream",
     "text": [
      "N\n"
     ]
    },
    {
     "ename": "TypeError",
     "evalue": "'str' object does not support item assignment",
     "output_type": "error",
     "traceback": [
      "\u001b[1;31m---------------------------------------------------------------------------\u001b[0m",
      "\u001b[1;31mTypeError\u001b[0m                                 Traceback (most recent call last)",
      "\u001b[1;32m<ipython-input-7-1b1e8b3d9399>\u001b[0m in \u001b[0;36m<module>\u001b[1;34m\u001b[0m\n\u001b[0;32m      7\u001b[0m \u001b[1;31m# But we cannot assign the and value by accessing a particular\u001b[0m\u001b[1;33m\u001b[0m\u001b[1;33m\u001b[0m\u001b[1;33m\u001b[0m\u001b[0m\n\u001b[0;32m      8\u001b[0m \u001b[1;31m# index as strings are immutable I will get an error\u001b[0m\u001b[1;33m\u001b[0m\u001b[1;33m\u001b[0m\u001b[1;33m\u001b[0m\u001b[0m\n\u001b[1;32m----> 9\u001b[1;33m \u001b[0mthis_is_string\u001b[0m\u001b[1;33m[\u001b[0m\u001b[1;36m0\u001b[0m\u001b[1;33m]\u001b[0m \u001b[1;33m=\u001b[0m \u001b[1;34m\"O\"\u001b[0m\u001b[1;33m\u001b[0m\u001b[1;33m\u001b[0m\u001b[0m\n\u001b[0m",
      "\u001b[1;31mTypeError\u001b[0m: 'str' object does not support item assignment"
     ]
    }
   ],
   "source": [
    "# declaring a string \n",
    "this_is_string = \"Naveen Kumar Dongre\"\n",
    "\n",
    "# Accesing the character of the string \n",
    "print(this_is_string[0])\n",
    "\n",
    "# But we cannot assign the and value by accessing a particular\n",
    "# index as strings are immutable I will get an error\n",
    "this_is_string[0] = \"O\"\n"
   ]
  },
  {
   "cell_type": "markdown",
   "id": "7e72ff4d",
   "metadata": {},
   "source": [
    "### 3. Describe three different data types."
   ]
  },
  {
   "cell_type": "markdown",
   "id": "3ed8f01a",
   "metadata": {},
   "source": [
    "In python we have various we have various type od data types but here I am discussing about the any three data types in python. "
   ]
  },
  {
   "cell_type": "markdown",
   "id": "c19c0a73",
   "metadata": {},
   "source": [
    "### 1. Integer Data type\n",
    "As the name suggest it a data type that stores integer values in it . They are positive or negative whole numbers with no decimal point. Integers in Python 3 are of unlimited size. Python 2 has two integer types - int and long. There is no 'long integer' in Python 3 anymore.\n",
    "\n",
    "### Type coversion \n",
    "Type int(x) to convert x to a plain integer. But be aware that X must not be string character like \"ab\" it will give error, but it can be string charater like \"1\", \"2\"."
   ]
  },
  {
   "cell_type": "code",
   "execution_count": 10,
   "id": "f451baf8",
   "metadata": {},
   "outputs": [
    {
     "name": "stdout",
     "output_type": "stream",
     "text": [
      "<class 'int'>\n",
      "Type of str_int is  <class 'str'>\n",
      "<class 'int'>\n"
     ]
    }
   ],
   "source": [
    "# Decalaring a integer \n",
    "integer = 4 \n",
    "print(type(integer))\n",
    "\n",
    "str_int  = \"2\"\n",
    "print(\"Type of str_int is \", type(str_int))\n",
    "# Now type casting the str_int to integer using int() method \n",
    "\n",
    "print(type(int(str_int)))"
   ]
  },
  {
   "cell_type": "markdown",
   "id": "0983f1c3",
   "metadata": {},
   "source": [
    "### 2.Float Data type \n",
    "In Python, floating point numbers (float) are positive and negative real numbers with a fractional part denoted by the decimal symbol . or the scientific notation E or e, e.g. 1234.56, 3.142, -1.55, 0.23.\n",
    "\n",
    "Below are some example"
   ]
  },
  {
   "cell_type": "code",
   "execution_count": 14,
   "id": "eec4e370",
   "metadata": {},
   "outputs": [
    {
     "name": "stdout",
     "output_type": "stream",
     "text": [
      "<class 'float'>\n"
     ]
    }
   ],
   "source": [
    "# declaring float number\n",
    "f = 1.9\n",
    "print(type(f))"
   ]
  },
  {
   "cell_type": "markdown",
   "id": "f1ed0d83",
   "metadata": {},
   "source": [
    "Floats can be separated by the underscore _, e.g. 123_42.222_013 is a valid float."
   ]
  },
  {
   "cell_type": "code",
   "execution_count": 15,
   "id": "eaa5231b",
   "metadata": {},
   "outputs": [
    {
     "data": {
      "text/plain": [
       "12342.222013"
      ]
     },
     "execution_count": 15,
     "metadata": {},
     "output_type": "execute_result"
    }
   ],
   "source": [
    "f = 123_42.222_013\n",
    "f"
   ]
  },
  {
   "cell_type": "markdown",
   "id": "13c1f1ac",
   "metadata": {},
   "source": [
    "Scientific notation is used as a short representation to express floats having many digits. For example: 345.56789 is represented as 3.4556789e2 or 3.4556789E2"
   ]
  },
  {
   "cell_type": "code",
   "execution_count": 17,
   "id": "346a7910",
   "metadata": {},
   "outputs": [
    {
     "data": {
      "text/plain": [
       "1000.0"
      ]
     },
     "execution_count": 17,
     "metadata": {},
     "output_type": "execute_result"
    }
   ],
   "source": [
    "f = 1e3\n",
    "f"
   ]
  },
  {
   "cell_type": "code",
   "execution_count": 19,
   "id": "6bb0197d",
   "metadata": {},
   "outputs": [
    {
     "data": {
      "text/plain": [
       "100000.0"
      ]
     },
     "execution_count": 19,
     "metadata": {},
     "output_type": "execute_result"
    }
   ],
   "source": [
    "f = 1e5\n",
    "f"
   ]
  },
  {
   "cell_type": "markdown",
   "id": "34cc8249",
   "metadata": {},
   "source": [
    "Use the float() function to convert string, int to float."
   ]
  },
  {
   "cell_type": "code",
   "execution_count": 22,
   "id": "1c5b5476",
   "metadata": {},
   "outputs": [
    {
     "name": "stdout",
     "output_type": "stream",
     "text": [
      "5.5\n",
      "1e3\n"
     ]
    }
   ],
   "source": [
    "string = \"5.5\"\n",
    "# type casting to float\n",
    "print(float(string))\n",
    "\n",
    "print('1e3')\n"
   ]
  },
  {
   "cell_type": "markdown",
   "id": "3ca03675",
   "metadata": {},
   "source": [
    "### 3. Complex Number\n",
    "A complex number is a number with real and imaginary components. For example, 5 + 6j is a complex number where 5 is the real component and 6 multiplied by j is an imaginary component."
   ]
  },
  {
   "cell_type": "code",
   "execution_count": 23,
   "id": "013ac1ac",
   "metadata": {},
   "outputs": [
    {
     "name": "stdout",
     "output_type": "stream",
     "text": [
      "(3+6j)\n"
     ]
    },
    {
     "data": {
      "text/plain": [
       "complex"
      ]
     },
     "execution_count": 23,
     "metadata": {},
     "output_type": "execute_result"
    }
   ],
   "source": [
    "a = 3 + 6j\n",
    "print(a)\n",
    "\n",
    "type(a)"
   ]
  },
  {
   "cell_type": "markdown",
   "id": "921a8cd3",
   "metadata": {},
   "source": [
    "### 3.  What is an expression made up of? What do all expressions do?\n"
   ]
  },
  {
   "cell_type": "markdown",
   "id": "04b08be6",
   "metadata": {},
   "source": [
    "An expression is made up by the combination of operators and operands that is interpreted to produce some other value."
   ]
  },
  {
   "cell_type": "code",
   "execution_count": 29,
   "id": "4c759ee4",
   "metadata": {},
   "outputs": [
    {
     "name": "stdout",
     "output_type": "stream",
     "text": [
      "a  +  b = 30\n"
     ]
    }
   ],
   "source": [
    "# Example of expression \n",
    "a = 10 \n",
    "b = 20 \n",
    "# here below is the expression where a and b are operands and + is operators \n",
    "# and the result of the required expression is stored in the variable 'res'.\n",
    "res = a + b\n",
    "print(\"a  +  b =\" , res)"
   ]
  },
  {
   "cell_type": "markdown",
   "id": "9f60d589",
   "metadata": {},
   "source": [
    "The main goal of an expression is evaluate the value or the result and the result of the expression totally depeands upon the operands and operators as I had shown in the previous example by evaluating the expression and printing it result."
   ]
  },
  {
   "cell_type": "markdown",
   "id": "2e3f3a76",
   "metadata": {},
   "source": [
    "### 5. This assignment statements, like spam = 10. What is the difference between an expression and a statement?"
   ]
  },
  {
   "cell_type": "markdown",
   "id": "de0bf8a2",
   "metadata": {},
   "source": [
    "Expression is made up of values, containers, and mathematical operators (operands) and the statement is just like a command that a python interpreter executes like print."
   ]
  },
  {
   "cell_type": "markdown",
   "id": "28c38f0e",
   "metadata": {},
   "source": [
    "### 6. After running the following code, what does the variable bacon contain?\n",
    "\n",
    "bacon = 22\n",
    "\n",
    "bacon + 1"
   ]
  },
  {
   "cell_type": "code",
   "execution_count": 30,
   "id": "fabf2ee5",
   "metadata": {},
   "outputs": [
    {
     "data": {
      "text/plain": [
       "23"
      ]
     },
     "execution_count": 30,
     "metadata": {},
     "output_type": "execute_result"
    }
   ],
   "source": [
    "bacon = 22 \n",
    "bacon + 1"
   ]
  },
  {
   "cell_type": "markdown",
   "id": "b66d1680",
   "metadata": {},
   "source": [
    "Hence the we will get 23 after the execution of code."
   ]
  },
  {
   "cell_type": "markdown",
   "id": "32195fd5",
   "metadata": {},
   "source": [
    "### 7. What should the values of the following two terms be?\n",
    "\n",
    "'spam' + 'spamspam'\n",
    "\n",
    "'spam' * 3"
   ]
  },
  {
   "cell_type": "code",
   "execution_count": 32,
   "id": "aa741371",
   "metadata": {},
   "outputs": [
    {
     "data": {
      "text/plain": [
       "'spamspamspam'"
      ]
     },
     "execution_count": 32,
     "metadata": {},
     "output_type": "execute_result"
    }
   ],
   "source": [
    "'spam' + 'spamspam'"
   ]
  },
  {
   "cell_type": "code",
   "execution_count": 33,
   "id": "83409209",
   "metadata": {},
   "outputs": [
    {
     "data": {
      "text/plain": [
       "'spamspamspam'"
      ]
     },
     "execution_count": 33,
     "metadata": {},
     "output_type": "execute_result"
    }
   ],
   "source": [
    "'spam' * 3"
   ]
  },
  {
   "cell_type": "markdown",
   "id": "4b57e453",
   "metadata": {},
   "source": [
    "### 8. Why is eggs a valid variable name while 100 is invalid?"
   ]
  },
  {
   "cell_type": "markdown",
   "id": "cd6870e4",
   "metadata": {},
   "source": [
    "Because we can't start a particular variable name with the integer number. But , suppose if we than we should being with a string-like alphabet name then and we can use a integer number , example e12 or eggs400 is valid."
   ]
  },
  {
   "cell_type": "markdown",
   "id": "e04b157d",
   "metadata": {},
   "source": [
    "### 9. What three functions can be used to get the integer, floating-point number, or string version of a value?\n"
   ]
  },
  {
   "cell_type": "markdown",
   "id": "40dfe2ce",
   "metadata": {},
   "source": [
    "To get a integer version we can use int()"
   ]
  },
  {
   "cell_type": "code",
   "execution_count": 34,
   "id": "eb00bd56",
   "metadata": {},
   "outputs": [
    {
     "name": "stdout",
     "output_type": "stream",
     "text": [
      "<class 'str'>\n",
      "<class 'int'>\n"
     ]
    }
   ],
   "source": [
    "s = \"1\"\n",
    "print(type(s))\n",
    "s = int(s)\n",
    "print(type(s))"
   ]
  },
  {
   "cell_type": "markdown",
   "id": "324dcd7e",
   "metadata": {},
   "source": [
    "To get a string version of any value we can use str()"
   ]
  },
  {
   "cell_type": "code",
   "execution_count": 35,
   "id": "9179d1da",
   "metadata": {},
   "outputs": [
    {
     "name": "stdout",
     "output_type": "stream",
     "text": [
      "<class 'int'>\n",
      "<class 'str'>\n"
     ]
    }
   ],
   "source": [
    "a = 1 \n",
    "print(type(a))\n",
    "a = str(a)\n",
    "print(type(a))"
   ]
  },
  {
   "cell_type": "markdown",
   "id": "a55714e9",
   "metadata": {},
   "source": [
    "To get a float version of any value we can use float()"
   ]
  },
  {
   "cell_type": "code",
   "execution_count": 37,
   "id": "1187e28c",
   "metadata": {},
   "outputs": [
    {
     "name": "stdout",
     "output_type": "stream",
     "text": [
      "<class 'str'>\n",
      "<class 'float'>\n"
     ]
    }
   ],
   "source": [
    "b = \"1.3\"\n",
    "print(type(b))\n",
    "b = float(b)\n",
    "print(type(b))"
   ]
  },
  {
   "cell_type": "markdown",
   "id": "bdd59b31",
   "metadata": {},
   "source": [
    "### 10. Why does this expression cause an error? How can you fix it?\n",
    "\n",
    "'I have eaten' + 99 + 'burritos' "
   ]
  },
  {
   "cell_type": "markdown",
   "id": "fb4bc402",
   "metadata": {},
   "source": [
    "Because 99 is an integer it cannot be concatenated with strings, if we have to concatenate it we need to do typecasting."
   ]
  },
  {
   "cell_type": "code",
   "execution_count": 38,
   "id": "21b2a540",
   "metadata": {},
   "outputs": [
    {
     "ename": "TypeError",
     "evalue": "can only concatenate str (not \"int\") to str",
     "output_type": "error",
     "traceback": [
      "\u001b[1;31m---------------------------------------------------------------------------\u001b[0m",
      "\u001b[1;31mTypeError\u001b[0m                                 Traceback (most recent call last)",
      "\u001b[1;32m<ipython-input-38-9230c793b9b6>\u001b[0m in \u001b[0;36m<module>\u001b[1;34m\u001b[0m\n\u001b[1;32m----> 1\u001b[1;33m \u001b[1;34m'I have eaten'\u001b[0m \u001b[1;33m+\u001b[0m \u001b[1;36m99\u001b[0m \u001b[1;33m+\u001b[0m \u001b[1;34m'burritos'\u001b[0m\u001b[1;33m\u001b[0m\u001b[1;33m\u001b[0m\u001b[0m\n\u001b[0m",
      "\u001b[1;31mTypeError\u001b[0m: can only concatenate str (not \"int\") to str"
     ]
    }
   ],
   "source": [
    "'I have eaten' + 99 + 'burritos'"
   ]
  },
  {
   "cell_type": "markdown",
   "id": "484da1d2",
   "metadata": {},
   "source": [
    "But we can correct it by type casting"
   ]
  },
  {
   "cell_type": "code",
   "execution_count": 39,
   "id": "da51d7f4",
   "metadata": {},
   "outputs": [
    {
     "data": {
      "text/plain": [
       "'I have eaten99burritos'"
      ]
     },
     "execution_count": 39,
     "metadata": {},
     "output_type": "execute_result"
    }
   ],
   "source": [
    "'I have eaten' + str(99) + 'burritos'"
   ]
  },
  {
   "cell_type": "code",
   "execution_count": null,
   "id": "c072f5d6",
   "metadata": {},
   "outputs": [],
   "source": []
  }
 ],
 "metadata": {
  "kernelspec": {
   "display_name": "Python 3",
   "language": "python",
   "name": "python3"
  },
  "language_info": {
   "codemirror_mode": {
    "name": "ipython",
    "version": 3
   },
   "file_extension": ".py",
   "mimetype": "text/x-python",
   "name": "python",
   "nbconvert_exporter": "python",
   "pygments_lexer": "ipython3",
   "version": "3.8.8"
  }
 },
 "nbformat": 4,
 "nbformat_minor": 5
}
